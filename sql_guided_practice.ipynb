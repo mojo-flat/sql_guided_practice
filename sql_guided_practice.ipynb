{
 "cells": [
  {
   "cell_type": "markdown",
   "id": "e2bccd9b",
   "metadata": {},
   "source": [
    "## Phase 1.06 - 1.07\n",
    "\n",
    "# SQL and Relational Databases"
   ]
  },
  {
   "cell_type": "markdown",
   "id": "a8ad3cce",
   "metadata": {},
   "source": [
    "## What is a Database?\n",
    "- In general, databases store sets of data that can be queried for use in other applications. \n",
    "- A database management system supports the development, administration and use of database platforms."
   ]
  },
  {
   "cell_type": "markdown",
   "id": "d7dbc146",
   "metadata": {
    "id": "bAXMam2mXlUm"
   },
   "source": [
    "\n",
    "### What is a Relational Database? \n",
    "- A *relational database management system* (**RDBMS**) is a type of DBMS with a row-based table structure that connects related data elements and includes functions that maintain the security, accuracy, integrity and consistency of the data.\n",
    "- The most basic **RDBMS** functions are related to *create, read, update and delete* operations, collectively known as **CRUD**."
   ]
  },
  {
   "cell_type": "markdown",
   "id": "ea8ea46a",
   "metadata": {
    "id": "EHQmpZ0-XlUn"
   },
   "source": [
    "### What is SQL?\n",
    "\n",
    "- **SQL** (usually pronounced like the word “sequel”) stands for Structured Query Language.\n",
    "- A programming language used to communicate with data stored in a **RDBMS** (relational database management system).\n",
    "- SQL syntax is similar to the English language, which makes it relatively easy to write, read, and interpret."
   ]
  },
  {
   "cell_type": "code",
   "execution_count": 1,
   "id": "6ad2f9be",
   "metadata": {
    "ExecuteTime": {
     "end_time": "2022-03-09T22:00:43.855228Z",
     "start_time": "2022-03-09T22:00:43.396533Z"
    }
   },
   "outputs": [],
   "source": [
    "import pandas as pd\n",
    "import sqlite3"
   ]
  },
  {
   "cell_type": "markdown",
   "id": "679b548e",
   "metadata": {
    "id": "yZRDCYBXXlUn"
   },
   "source": [
    "### Schema\n",
    "A relational database schema helps you to organize and understand the structure of a database by showing how all of the tables are related to each other.\n",
    "<img src='https://github.com/yishuen/studygroups-070620pt/blob/master/mod-1/images/employees-schema.png?raw=1'>"
   ]
  },
  {
   "cell_type": "markdown",
   "id": "a6d16793",
   "metadata": {},
   "source": [
    "### Relationships\n",
    "\n",
    "The logical association among entities is called relationship. Relationships are mapped between entities in various ways. \n",
    "\n",
    "**Relationship Mappings**\n",
    "\n",
    "- one to one\n",
    "- one to many\n",
    "- many to many\n"
   ]
  },
  {
   "cell_type": "code",
   "execution_count": 2,
   "id": "c182163d",
   "metadata": {
    "ExecuteTime": {
     "end_time": "2022-03-09T22:00:43.868460Z",
     "start_time": "2022-03-09T22:00:43.858064Z"
    }
   },
   "outputs": [
    {
     "data": {
      "text/plain": [
       "<sqlite3.Connection at 0x7fe7b9586120>"
      ]
     },
     "execution_count": 2,
     "metadata": {},
     "output_type": "execute_result"
    }
   ],
   "source": [
    "# Connecting to the database.\n",
    "conn = sqlite3.connect('data/pokemon.db')\n",
    "conn"
   ]
  },
  {
   "cell_type": "code",
   "execution_count": 3,
   "id": "0cdbb38d",
   "metadata": {
    "ExecuteTime": {
     "end_time": "2022-03-09T22:00:43.874741Z",
     "start_time": "2022-03-09T22:00:43.870423Z"
    }
   },
   "outputs": [
    {
     "data": {
      "text/plain": [
       "<sqlite3.Cursor at 0x7fe7b956fd50>"
      ]
     },
     "execution_count": 3,
     "metadata": {},
     "output_type": "execute_result"
    }
   ],
   "source": [
    "# Look at the cursor.\n",
    "cur = conn.cursor()\n",
    "cur"
   ]
  },
  {
   "cell_type": "code",
   "execution_count": 4,
   "id": "2ed529aa",
   "metadata": {
    "ExecuteTime": {
     "end_time": "2022-03-09T22:00:43.881486Z",
     "start_time": "2022-03-09T22:00:43.876962Z"
    }
   },
   "outputs": [
    {
     "data": {
      "text/plain": [
       "<sqlite3.Cursor at 0x7fe7b956fd50>"
      ]
     },
     "execution_count": 4,
     "metadata": {},
     "output_type": "execute_result"
    }
   ],
   "source": [
    "# Executing a query.\n",
    "cur.execute('SELECT * FROM pokemon')"
   ]
  },
  {
   "cell_type": "code",
   "execution_count": 5,
   "id": "66214dc6",
   "metadata": {
    "ExecuteTime": {
     "end_time": "2022-03-09T22:00:43.889614Z",
     "start_time": "2022-03-09T22:00:43.885071Z"
    }
   },
   "outputs": [
    {
     "data": {
      "text/plain": [
       "(('id', None, None, None, None, None, None),\n",
       " ('name', None, None, None, None, None, None),\n",
       " ('base_experience', None, None, None, None, None, None),\n",
       " ('weight', None, None, None, None, None, None),\n",
       " ('height', None, None, None, None, None, None))"
      ]
     },
     "execution_count": 5,
     "metadata": {},
     "output_type": "execute_result"
    }
   ],
   "source": [
    "# Showing the description.\n",
    "cur.description"
   ]
  },
  {
   "cell_type": "code",
   "execution_count": 6,
   "id": "cd6a5e6e",
   "metadata": {
    "ExecuteTime": {
     "end_time": "2022-03-09T22:00:43.897160Z",
     "start_time": "2022-03-09T22:00:43.892096Z"
    }
   },
   "outputs": [
    {
     "data": {
      "text/plain": [
       "['id', 'name', 'base_experience', 'weight', 'height']"
      ]
     },
     "execution_count": 6,
     "metadata": {},
     "output_type": "execute_result"
    }
   ],
   "source": [
    "# Get column names - longhand.\n",
    "my_lst = []\n",
    "for x in cur.description:\n",
    "    my_lst.append(x[0])\n",
    "my_lst"
   ]
  },
  {
   "cell_type": "code",
   "execution_count": 7,
   "id": "f13532d2",
   "metadata": {
    "ExecuteTime": {
     "end_time": "2022-03-09T22:00:43.907132Z",
     "start_time": "2022-03-09T22:00:43.900715Z"
    }
   },
   "outputs": [
    {
     "data": {
      "text/plain": [
       "['id', 'name', 'base_experience', 'weight', 'height']"
      ]
     },
     "execution_count": 7,
     "metadata": {},
     "output_type": "execute_result"
    }
   ],
   "source": [
    "# Get column names - shorthand.\n",
    "[x[0] for x in cur.description]"
   ]
  },
  {
   "cell_type": "code",
   "execution_count": 8,
   "id": "fa808619",
   "metadata": {
    "ExecuteTime": {
     "end_time": "2022-03-09T22:00:43.955061Z",
     "start_time": "2022-03-09T22:00:43.914549Z"
    },
    "scrolled": true
   },
   "outputs": [
    {
     "data": {
      "text/plain": [
       "[(1, 'bulbasaur', 64, 69, 7),\n",
       " (2, 'ivysaur', 142, 130, 10),\n",
       " (3, 'venusaur', 236, 1000, 20),\n",
       " (4, 'charmander', 62, 85, 6),\n",
       " (5, 'charmeleon', 142, 190, 11),\n",
       " (6, 'charizard', 240, 905, 17),\n",
       " (7, 'squirtle', 63, 90, 5),\n",
       " (8, 'wartortle', 142, 225, 10),\n",
       " (9, 'blastoise', 239, 855, 16),\n",
       " (10, 'caterpie', 39, 29, 3),\n",
       " (11, 'metapod', 72, 99, 7),\n",
       " (12, 'butterfree', 178, 320, 11),\n",
       " (13, 'weedle', 39, 32, 3),\n",
       " (14, 'kakuna', 72, 100, 6),\n",
       " (15, 'beedrill', 178, 295, 10),\n",
       " (16, 'pidgey', 50, 18, 3),\n",
       " (17, 'pidgeotto', 122, 300, 11),\n",
       " (18, 'pidgeot', 216, 395, 15),\n",
       " (19, 'rattata', 51, 35, 3),\n",
       " (20, 'raticate', 145, 185, 7),\n",
       " (21, 'spearow', 52, 20, 3),\n",
       " (22, 'fearow', 155, 380, 12),\n",
       " (23, 'ekans', 58, 69, 20),\n",
       " (24, 'arbok', 157, 650, 35),\n",
       " (25, 'pikachu', 112, 60, 4),\n",
       " (26, 'raichu', 218, 300, 8),\n",
       " (27, 'sandshrew', 60, 120, 6),\n",
       " (28, 'sandslash', 158, 295, 10),\n",
       " (29, 'nidoran-f', 55, 70, 4),\n",
       " (30, 'nidorina', 128, 200, 8),\n",
       " (31, 'nidoqueen', 227, 600, 13),\n",
       " (32, 'nidoran-m', 55, 90, 5),\n",
       " (33, 'nidorino', 128, 195, 9),\n",
       " (34, 'nidoking', 227, 620, 14),\n",
       " (35, 'clefairy', 113, 75, 6),\n",
       " (36, 'clefable', 217, 400, 13),\n",
       " (37, 'vulpix', 60, 99, 6),\n",
       " (38, 'ninetales', 177, 199, 11),\n",
       " (39, 'jigglypuff', 95, 55, 5),\n",
       " (40, 'wigglytuff', 196, 120, 10),\n",
       " (41, 'zubat', 49, 75, 8),\n",
       " (42, 'golbat', 159, 550, 16),\n",
       " (43, 'oddish', 64, 54, 5),\n",
       " (44, 'gloom', 138, 86, 8),\n",
       " (45, 'vileplume', 221, 186, 12),\n",
       " (46, 'paras', 57, 54, 3),\n",
       " (47, 'parasect', 142, 295, 10),\n",
       " (48, 'venonat', 61, 300, 10),\n",
       " (49, 'venomoth', 158, 125, 15),\n",
       " (50, 'diglett', 53, 8, 2),\n",
       " (51, 'dugtrio', 149, 333, 7),\n",
       " (52, 'meowth', 58, 42, 4),\n",
       " (53, 'persian', 154, 320, 10),\n",
       " (54, 'psyduck', 64, 196, 8),\n",
       " (55, 'golduck', 175, 766, 17),\n",
       " (56, 'mankey', 61, 280, 5),\n",
       " (57, 'primeape', 159, 320, 10),\n",
       " (58, 'growlithe', 70, 190, 7),\n",
       " (59, 'arcanine', 194, 1550, 19),\n",
       " (60, 'poliwag', 60, 124, 6),\n",
       " (61, 'poliwhirl', 135, 200, 10),\n",
       " (62, 'poliwrath', 230, 540, 13),\n",
       " (63, 'abra', 62, 195, 9),\n",
       " (64, 'kadabra', 140, 565, 13),\n",
       " (65, 'alakazam', 225, 480, 15),\n",
       " (66, 'machop', 61, 195, 8),\n",
       " (67, 'machoke', 142, 705, 15),\n",
       " (68, 'machamp', 227, 1300, 16),\n",
       " (69, 'bellsprout', 60, 40, 7),\n",
       " (70, 'weepinbell', 137, 64, 10),\n",
       " (71, 'victreebel', 221, 155, 17),\n",
       " (72, 'tentacool', 67, 455, 9),\n",
       " (73, 'tentacruel', 180, 550, 16),\n",
       " (74, 'geodude', 60, 200, 4),\n",
       " (75, 'graveler', 137, 1050, 10),\n",
       " (76, 'golem', 223, 3000, 14),\n",
       " (77, 'ponyta', 82, 300, 10),\n",
       " (78, 'rapidash', 175, 950, 17),\n",
       " (79, 'slowpoke', 63, 360, 12),\n",
       " (80, 'slowbro', 172, 785, 16),\n",
       " (81, 'magnemite', 65, 60, 3),\n",
       " (82, 'magneton', 163, 600, 10),\n",
       " (83, 'farfetchd', 132, 150, 8),\n",
       " (84, 'doduo', 62, 392, 14),\n",
       " (85, 'dodrio', 165, 852, 18),\n",
       " (86, 'seel', 65, 900, 11),\n",
       " (87, 'dewgong', 166, 1200, 17),\n",
       " (88, 'grimer', 65, 300, 9),\n",
       " (89, 'muk', 175, 300, 12),\n",
       " (90, 'shellder', 61, 40, 3),\n",
       " (91, 'cloyster', 184, 1325, 15),\n",
       " (92, 'gastly', 62, 1, 13),\n",
       " (93, 'haunter', 142, 1, 16),\n",
       " (94, 'gengar', 225, 405, 15),\n",
       " (95, 'onix', 77, 2100, 88),\n",
       " (96, 'drowzee', 66, 324, 10),\n",
       " (97, 'hypno', 169, 756, 16),\n",
       " (98, 'krabby', 65, 65, 4),\n",
       " (99, 'kingler', 166, 600, 13),\n",
       " (100, 'voltorb', 66, 104, 5),\n",
       " (101, 'electrode', 172, 666, 12),\n",
       " (102, 'exeggcute', 65, 25, 4),\n",
       " (103, 'exeggutor', 186, 1200, 20),\n",
       " (104, 'cubone', 64, 65, 4),\n",
       " (105, 'marowak', 149, 450, 10),\n",
       " (106, 'hitmonlee', 159, 498, 15),\n",
       " (107, 'hitmonchan', 159, 502, 14),\n",
       " (108, 'lickitung', 77, 655, 12),\n",
       " (109, 'koffing', 68, 10, 6),\n",
       " (110, 'weezing', 172, 95, 12),\n",
       " (111, 'rhyhorn', 69, 1150, 10),\n",
       " (112, 'rhydon', 170, 1200, 19),\n",
       " (113, 'chansey', 395, 346, 11),\n",
       " (114, 'tangela', 87, 350, 10),\n",
       " (115, 'kangaskhan', 172, 800, 22),\n",
       " (116, 'horsea', 59, 80, 4),\n",
       " (117, 'seadra', 154, 250, 12),\n",
       " (118, 'goldeen', 64, 150, 6),\n",
       " (119, 'seaking', 158, 390, 13),\n",
       " (120, 'staryu', 68, 345, 8),\n",
       " (121, 'starmie', 182, 800, 11),\n",
       " (122, 'mr-mime', 161, 545, 13),\n",
       " (123, 'scyther', 100, 560, 15),\n",
       " (124, 'jynx', 159, 406, 14),\n",
       " (125, 'electabuzz', 172, 300, 11),\n",
       " (126, 'magmar', 173, 445, 13),\n",
       " (127, 'pinsir', 175, 550, 15),\n",
       " (128, 'tauros', 172, 884, 14),\n",
       " (129, 'magikarp', 40, 100, 9),\n",
       " (130, 'gyarados', 189, 2350, 65),\n",
       " (131, 'lapras', 187, 2200, 25),\n",
       " (132, 'ditto', 101, 40, 3),\n",
       " (133, 'eevee', 65, 65, 3),\n",
       " (134, 'vaporeon', 184, 290, 10),\n",
       " (135, 'jolteon', 184, 245, 8),\n",
       " (136, 'flareon', 184, 250, 9),\n",
       " (137, 'porygon', 79, 365, 8),\n",
       " (138, 'omanyte', 71, 75, 4),\n",
       " (139, 'omastar', 173, 350, 10),\n",
       " (140, 'kabuto', 71, 115, 5),\n",
       " (141, 'kabutops', 173, 405, 13),\n",
       " (142, 'aerodactyl', 180, 590, 18),\n",
       " (143, 'snorlax', 189, 4600, 21),\n",
       " (144, 'articuno', 261, 554, 17),\n",
       " (145, 'zapdos', 261, 526, 16),\n",
       " (146, 'moltres', 261, 600, 20),\n",
       " (147, 'dratini', 60, 33, 18),\n",
       " (148, 'dragonair', 147, 165, 40),\n",
       " (149, 'dragonite', 270, 2100, 22),\n",
       " (150, 'mewtwo', 306, 1220, 20),\n",
       " (151, 'mew', 270, 40, 4)]"
      ]
     },
     "execution_count": 8,
     "metadata": {},
     "output_type": "execute_result"
    }
   ],
   "source": [
    "# Return the query.\n",
    "cur.fetchall()"
   ]
  },
  {
   "cell_type": "code",
   "execution_count": 9,
   "id": "828c7c14",
   "metadata": {
    "ExecuteTime": {
     "end_time": "2022-03-09T22:00:43.963576Z",
     "start_time": "2022-03-09T22:00:43.957908Z"
    }
   },
   "outputs": [
    {
     "data": {
      "text/plain": [
       "[]"
      ]
     },
     "execution_count": 9,
     "metadata": {},
     "output_type": "execute_result"
    }
   ],
   "source": [
    "# Try to return the query again!\n",
    "cur.fetchall()"
   ]
  },
  {
   "cell_type": "markdown",
   "id": "b5e09980",
   "metadata": {},
   "source": [
    "## Using SQL in Python\n",
    "\n",
    "\n",
    "We're going to play around with this Pokemon database!\n",
    "\n",
    "<img src='https://raw.githubusercontent.com/yishuen/studygroups-070620pt/master/mod-1/images/pokemon_db.png'>"
   ]
  },
  {
   "cell_type": "markdown",
   "id": "364dc4ac",
   "metadata": {
    "id": "TnZ2e4qrXlUt"
   },
   "source": [
    "### Parts of a SQL Query\n",
    "* `SELECT ... FROM ...`: Which columns from which table\n",
    "* `WHERE`: Conditions to filter your query by\n",
    "* `JOIN`: Put tables together\n",
    "* `GROUP BY`: Group and aggregate data\n",
    "* `HAVING`: Filtering after a `GROUP BY`\n",
    "* `ORDER BY`: How to sort the table\n",
    "* `LIMIT`: How many rows to query"
   ]
  },
  {
   "cell_type": "markdown",
   "id": "7914705e",
   "metadata": {
    "ExecuteTime": {
     "end_time": "2022-01-27T00:24:06.013618Z",
     "start_time": "2022-01-27T00:24:05.827204Z"
    }
   },
   "source": [
    "`read_sql()` in Pandas!\n",
    ">```python\n",
    "> pd.read_sql('YOUR QUERY HERE', conn)\n",
    ">```"
   ]
  },
  {
   "cell_type": "code",
   "execution_count": 38,
   "id": "b97c8186",
   "metadata": {},
   "outputs": [
    {
     "name": "stdout",
     "output_type": "stream",
     "text": [
      "abilities      pokemon        pokemon_types  types        \n"
     ]
    }
   ],
   "source": [
    "%%bash\n",
    "sqlite3 data/pokemon.db\n",
    ".tables"
   ]
  },
  {
   "cell_type": "code",
   "execution_count": 10,
   "id": "f003196f",
   "metadata": {
    "ExecuteTime": {
     "end_time": "2022-03-09T22:00:44.111500Z",
     "start_time": "2022-03-09T22:00:43.967560Z"
    }
   },
   "outputs": [
    {
     "data": {
      "text/html": [
       "<div>\n",
       "<style scoped>\n",
       "    .dataframe tbody tr th:only-of-type {\n",
       "        vertical-align: middle;\n",
       "    }\n",
       "\n",
       "    .dataframe tbody tr th {\n",
       "        vertical-align: top;\n",
       "    }\n",
       "\n",
       "    .dataframe thead th {\n",
       "        text-align: right;\n",
       "    }\n",
       "</style>\n",
       "<table border=\"1\" class=\"dataframe\">\n",
       "  <thead>\n",
       "    <tr style=\"text-align: right;\">\n",
       "      <th></th>\n",
       "      <th>id</th>\n",
       "      <th>name</th>\n",
       "      <th>base_experience</th>\n",
       "      <th>weight</th>\n",
       "      <th>height</th>\n",
       "    </tr>\n",
       "  </thead>\n",
       "  <tbody>\n",
       "    <tr>\n",
       "      <th>0</th>\n",
       "      <td>1</td>\n",
       "      <td>bulbasaur</td>\n",
       "      <td>64</td>\n",
       "      <td>69</td>\n",
       "      <td>7</td>\n",
       "    </tr>\n",
       "    <tr>\n",
       "      <th>1</th>\n",
       "      <td>2</td>\n",
       "      <td>ivysaur</td>\n",
       "      <td>142</td>\n",
       "      <td>130</td>\n",
       "      <td>10</td>\n",
       "    </tr>\n",
       "    <tr>\n",
       "      <th>2</th>\n",
       "      <td>3</td>\n",
       "      <td>venusaur</td>\n",
       "      <td>236</td>\n",
       "      <td>1000</td>\n",
       "      <td>20</td>\n",
       "    </tr>\n",
       "    <tr>\n",
       "      <th>3</th>\n",
       "      <td>4</td>\n",
       "      <td>charmander</td>\n",
       "      <td>62</td>\n",
       "      <td>85</td>\n",
       "      <td>6</td>\n",
       "    </tr>\n",
       "    <tr>\n",
       "      <th>4</th>\n",
       "      <td>5</td>\n",
       "      <td>charmeleon</td>\n",
       "      <td>142</td>\n",
       "      <td>190</td>\n",
       "      <td>11</td>\n",
       "    </tr>\n",
       "    <tr>\n",
       "      <th>...</th>\n",
       "      <td>...</td>\n",
       "      <td>...</td>\n",
       "      <td>...</td>\n",
       "      <td>...</td>\n",
       "      <td>...</td>\n",
       "    </tr>\n",
       "    <tr>\n",
       "      <th>146</th>\n",
       "      <td>147</td>\n",
       "      <td>dratini</td>\n",
       "      <td>60</td>\n",
       "      <td>33</td>\n",
       "      <td>18</td>\n",
       "    </tr>\n",
       "    <tr>\n",
       "      <th>147</th>\n",
       "      <td>148</td>\n",
       "      <td>dragonair</td>\n",
       "      <td>147</td>\n",
       "      <td>165</td>\n",
       "      <td>40</td>\n",
       "    </tr>\n",
       "    <tr>\n",
       "      <th>148</th>\n",
       "      <td>149</td>\n",
       "      <td>dragonite</td>\n",
       "      <td>270</td>\n",
       "      <td>2100</td>\n",
       "      <td>22</td>\n",
       "    </tr>\n",
       "    <tr>\n",
       "      <th>149</th>\n",
       "      <td>150</td>\n",
       "      <td>mewtwo</td>\n",
       "      <td>306</td>\n",
       "      <td>1220</td>\n",
       "      <td>20</td>\n",
       "    </tr>\n",
       "    <tr>\n",
       "      <th>150</th>\n",
       "      <td>151</td>\n",
       "      <td>mew</td>\n",
       "      <td>270</td>\n",
       "      <td>40</td>\n",
       "      <td>4</td>\n",
       "    </tr>\n",
       "  </tbody>\n",
       "</table>\n",
       "<p>151 rows × 5 columns</p>\n",
       "</div>"
      ],
      "text/plain": [
       "      id        name  base_experience  weight  height\n",
       "0      1   bulbasaur               64      69       7\n",
       "1      2     ivysaur              142     130      10\n",
       "2      3    venusaur              236    1000      20\n",
       "3      4  charmander               62      85       6\n",
       "4      5  charmeleon              142     190      11\n",
       "..   ...         ...              ...     ...     ...\n",
       "146  147     dratini               60      33      18\n",
       "147  148   dragonair              147     165      40\n",
       "148  149   dragonite              270    2100      22\n",
       "149  150      mewtwo              306    1220      20\n",
       "150  151         mew              270      40       4\n",
       "\n",
       "[151 rows x 5 columns]"
      ]
     },
     "execution_count": 10,
     "metadata": {},
     "output_type": "execute_result"
    }
   ],
   "source": [
    "pd.read_sql('SELECT * FROM pokemon', conn)"
   ]
  },
  {
   "cell_type": "markdown",
   "id": "3e829c37",
   "metadata": {},
   "source": [
    "#### Q1: Select all pokemon from the pokemon table"
   ]
  },
  {
   "cell_type": "code",
   "execution_count": 11,
   "id": "89e8820b",
   "metadata": {
    "ExecuteTime": {
     "end_time": "2022-03-09T22:00:44.134058Z",
     "start_time": "2022-03-09T22:00:44.114071Z"
    },
    "scrolled": true
   },
   "outputs": [
    {
     "data": {
      "text/html": [
       "<div>\n",
       "<style scoped>\n",
       "    .dataframe tbody tr th:only-of-type {\n",
       "        vertical-align: middle;\n",
       "    }\n",
       "\n",
       "    .dataframe tbody tr th {\n",
       "        vertical-align: top;\n",
       "    }\n",
       "\n",
       "    .dataframe thead th {\n",
       "        text-align: right;\n",
       "    }\n",
       "</style>\n",
       "<table border=\"1\" class=\"dataframe\">\n",
       "  <thead>\n",
       "    <tr style=\"text-align: right;\">\n",
       "      <th></th>\n",
       "      <th>id</th>\n",
       "      <th>name</th>\n",
       "      <th>base_experience</th>\n",
       "      <th>weight</th>\n",
       "      <th>height</th>\n",
       "    </tr>\n",
       "  </thead>\n",
       "  <tbody>\n",
       "    <tr>\n",
       "      <th>0</th>\n",
       "      <td>1</td>\n",
       "      <td>bulbasaur</td>\n",
       "      <td>64</td>\n",
       "      <td>69</td>\n",
       "      <td>7</td>\n",
       "    </tr>\n",
       "    <tr>\n",
       "      <th>1</th>\n",
       "      <td>2</td>\n",
       "      <td>ivysaur</td>\n",
       "      <td>142</td>\n",
       "      <td>130</td>\n",
       "      <td>10</td>\n",
       "    </tr>\n",
       "    <tr>\n",
       "      <th>2</th>\n",
       "      <td>3</td>\n",
       "      <td>venusaur</td>\n",
       "      <td>236</td>\n",
       "      <td>1000</td>\n",
       "      <td>20</td>\n",
       "    </tr>\n",
       "    <tr>\n",
       "      <th>3</th>\n",
       "      <td>4</td>\n",
       "      <td>charmander</td>\n",
       "      <td>62</td>\n",
       "      <td>85</td>\n",
       "      <td>6</td>\n",
       "    </tr>\n",
       "    <tr>\n",
       "      <th>4</th>\n",
       "      <td>5</td>\n",
       "      <td>charmeleon</td>\n",
       "      <td>142</td>\n",
       "      <td>190</td>\n",
       "      <td>11</td>\n",
       "    </tr>\n",
       "    <tr>\n",
       "      <th>...</th>\n",
       "      <td>...</td>\n",
       "      <td>...</td>\n",
       "      <td>...</td>\n",
       "      <td>...</td>\n",
       "      <td>...</td>\n",
       "    </tr>\n",
       "    <tr>\n",
       "      <th>146</th>\n",
       "      <td>147</td>\n",
       "      <td>dratini</td>\n",
       "      <td>60</td>\n",
       "      <td>33</td>\n",
       "      <td>18</td>\n",
       "    </tr>\n",
       "    <tr>\n",
       "      <th>147</th>\n",
       "      <td>148</td>\n",
       "      <td>dragonair</td>\n",
       "      <td>147</td>\n",
       "      <td>165</td>\n",
       "      <td>40</td>\n",
       "    </tr>\n",
       "    <tr>\n",
       "      <th>148</th>\n",
       "      <td>149</td>\n",
       "      <td>dragonite</td>\n",
       "      <td>270</td>\n",
       "      <td>2100</td>\n",
       "      <td>22</td>\n",
       "    </tr>\n",
       "    <tr>\n",
       "      <th>149</th>\n",
       "      <td>150</td>\n",
       "      <td>mewtwo</td>\n",
       "      <td>306</td>\n",
       "      <td>1220</td>\n",
       "      <td>20</td>\n",
       "    </tr>\n",
       "    <tr>\n",
       "      <th>150</th>\n",
       "      <td>151</td>\n",
       "      <td>mew</td>\n",
       "      <td>270</td>\n",
       "      <td>40</td>\n",
       "      <td>4</td>\n",
       "    </tr>\n",
       "  </tbody>\n",
       "</table>\n",
       "<p>151 rows × 5 columns</p>\n",
       "</div>"
      ],
      "text/plain": [
       "      id        name  base_experience  weight  height\n",
       "0      1   bulbasaur               64      69       7\n",
       "1      2     ivysaur              142     130      10\n",
       "2      3    venusaur              236    1000      20\n",
       "3      4  charmander               62      85       6\n",
       "4      5  charmeleon              142     190      11\n",
       "..   ...         ...              ...     ...     ...\n",
       "146  147     dratini               60      33      18\n",
       "147  148   dragonair              147     165      40\n",
       "148  149   dragonite              270    2100      22\n",
       "149  150      mewtwo              306    1220      20\n",
       "150  151         mew              270      40       4\n",
       "\n",
       "[151 rows x 5 columns]"
      ]
     },
     "execution_count": 11,
     "metadata": {},
     "output_type": "execute_result"
    }
   ],
   "source": [
    "# Select all pokemon from the pokemon table.\n",
    "q1 = \"\"\"\n",
    "SELECT *\n",
    "FROM pokemon\n",
    "\"\"\"\n",
    "\n",
    "pd.read_sql(q1, conn)"
   ]
  },
  {
   "cell_type": "code",
   "execution_count": 67,
   "id": "da12f7c7",
   "metadata": {},
   "outputs": [
    {
     "data": {
      "text/html": [
       "<div>\n",
       "<style scoped>\n",
       "    .dataframe tbody tr th:only-of-type {\n",
       "        vertical-align: middle;\n",
       "    }\n",
       "\n",
       "    .dataframe tbody tr th {\n",
       "        vertical-align: top;\n",
       "    }\n",
       "\n",
       "    .dataframe thead th {\n",
       "        text-align: right;\n",
       "    }\n",
       "</style>\n",
       "<table border=\"1\" class=\"dataframe\">\n",
       "  <thead>\n",
       "    <tr style=\"text-align: right;\">\n",
       "      <th></th>\n",
       "      <th>id</th>\n",
       "      <th>pokemon_id</th>\n",
       "      <th>type_id</th>\n",
       "    </tr>\n",
       "  </thead>\n",
       "  <tbody>\n",
       "    <tr>\n",
       "      <th>0</th>\n",
       "      <td>1</td>\n",
       "      <td>1</td>\n",
       "      <td>12</td>\n",
       "    </tr>\n",
       "    <tr>\n",
       "      <th>1</th>\n",
       "      <td>2</td>\n",
       "      <td>1</td>\n",
       "      <td>4</td>\n",
       "    </tr>\n",
       "    <tr>\n",
       "      <th>2</th>\n",
       "      <td>3</td>\n",
       "      <td>2</td>\n",
       "      <td>12</td>\n",
       "    </tr>\n",
       "    <tr>\n",
       "      <th>3</th>\n",
       "      <td>4</td>\n",
       "      <td>2</td>\n",
       "      <td>4</td>\n",
       "    </tr>\n",
       "    <tr>\n",
       "      <th>4</th>\n",
       "      <td>5</td>\n",
       "      <td>3</td>\n",
       "      <td>12</td>\n",
       "    </tr>\n",
       "    <tr>\n",
       "      <th>...</th>\n",
       "      <td>...</td>\n",
       "      <td>...</td>\n",
       "      <td>...</td>\n",
       "    </tr>\n",
       "    <tr>\n",
       "      <th>213</th>\n",
       "      <td>214</td>\n",
       "      <td>148</td>\n",
       "      <td>16</td>\n",
       "    </tr>\n",
       "    <tr>\n",
       "      <th>214</th>\n",
       "      <td>215</td>\n",
       "      <td>149</td>\n",
       "      <td>16</td>\n",
       "    </tr>\n",
       "    <tr>\n",
       "      <th>215</th>\n",
       "      <td>216</td>\n",
       "      <td>149</td>\n",
       "      <td>3</td>\n",
       "    </tr>\n",
       "    <tr>\n",
       "      <th>216</th>\n",
       "      <td>217</td>\n",
       "      <td>150</td>\n",
       "      <td>14</td>\n",
       "    </tr>\n",
       "    <tr>\n",
       "      <th>217</th>\n",
       "      <td>218</td>\n",
       "      <td>151</td>\n",
       "      <td>14</td>\n",
       "    </tr>\n",
       "  </tbody>\n",
       "</table>\n",
       "<p>218 rows × 3 columns</p>\n",
       "</div>"
      ],
      "text/plain": [
       "      id  pokemon_id  type_id\n",
       "0      1           1       12\n",
       "1      2           1        4\n",
       "2      3           2       12\n",
       "3      4           2        4\n",
       "4      5           3       12\n",
       "..   ...         ...      ...\n",
       "213  214         148       16\n",
       "214  215         149       16\n",
       "215  216         149        3\n",
       "216  217         150       14\n",
       "217  218         151       14\n",
       "\n",
       "[218 rows x 3 columns]"
      ]
     },
     "execution_count": 67,
     "metadata": {},
     "output_type": "execute_result"
    }
   ],
   "source": [
    "# pokemon types\n",
    "\n",
    "# Select all pokemon from the pokemon_types table.\n",
    "q1_0 = \"\"\"\n",
    "SELECT *\n",
    "FROM pokemon_types\n",
    "\"\"\"\n",
    "\n",
    "pd.read_sql((q1_0), conn)"
   ]
  },
  {
   "cell_type": "code",
   "execution_count": 69,
   "id": "79ad7441",
   "metadata": {},
   "outputs": [
    {
     "data": {
      "text/html": [
       "<div>\n",
       "<style scoped>\n",
       "    .dataframe tbody tr th:only-of-type {\n",
       "        vertical-align: middle;\n",
       "    }\n",
       "\n",
       "    .dataframe tbody tr th {\n",
       "        vertical-align: top;\n",
       "    }\n",
       "\n",
       "    .dataframe thead th {\n",
       "        text-align: right;\n",
       "    }\n",
       "</style>\n",
       "<table border=\"1\" class=\"dataframe\">\n",
       "  <thead>\n",
       "    <tr style=\"text-align: right;\">\n",
       "      <th></th>\n",
       "      <th>id</th>\n",
       "      <th>name</th>\n",
       "    </tr>\n",
       "  </thead>\n",
       "  <tbody>\n",
       "    <tr>\n",
       "      <th>0</th>\n",
       "      <td>1</td>\n",
       "      <td>normal</td>\n",
       "    </tr>\n",
       "    <tr>\n",
       "      <th>1</th>\n",
       "      <td>2</td>\n",
       "      <td>fighting</td>\n",
       "    </tr>\n",
       "    <tr>\n",
       "      <th>2</th>\n",
       "      <td>3</td>\n",
       "      <td>flying</td>\n",
       "    </tr>\n",
       "    <tr>\n",
       "      <th>3</th>\n",
       "      <td>4</td>\n",
       "      <td>poison</td>\n",
       "    </tr>\n",
       "    <tr>\n",
       "      <th>4</th>\n",
       "      <td>5</td>\n",
       "      <td>ground</td>\n",
       "    </tr>\n",
       "    <tr>\n",
       "      <th>5</th>\n",
       "      <td>6</td>\n",
       "      <td>rock</td>\n",
       "    </tr>\n",
       "    <tr>\n",
       "      <th>6</th>\n",
       "      <td>7</td>\n",
       "      <td>bug</td>\n",
       "    </tr>\n",
       "    <tr>\n",
       "      <th>7</th>\n",
       "      <td>8</td>\n",
       "      <td>ghost</td>\n",
       "    </tr>\n",
       "    <tr>\n",
       "      <th>8</th>\n",
       "      <td>9</td>\n",
       "      <td>steel</td>\n",
       "    </tr>\n",
       "    <tr>\n",
       "      <th>9</th>\n",
       "      <td>10</td>\n",
       "      <td>fire</td>\n",
       "    </tr>\n",
       "    <tr>\n",
       "      <th>10</th>\n",
       "      <td>11</td>\n",
       "      <td>water</td>\n",
       "    </tr>\n",
       "    <tr>\n",
       "      <th>11</th>\n",
       "      <td>12</td>\n",
       "      <td>grass</td>\n",
       "    </tr>\n",
       "    <tr>\n",
       "      <th>12</th>\n",
       "      <td>13</td>\n",
       "      <td>electric</td>\n",
       "    </tr>\n",
       "    <tr>\n",
       "      <th>13</th>\n",
       "      <td>14</td>\n",
       "      <td>psychic</td>\n",
       "    </tr>\n",
       "    <tr>\n",
       "      <th>14</th>\n",
       "      <td>15</td>\n",
       "      <td>ice</td>\n",
       "    </tr>\n",
       "    <tr>\n",
       "      <th>15</th>\n",
       "      <td>16</td>\n",
       "      <td>dragon</td>\n",
       "    </tr>\n",
       "    <tr>\n",
       "      <th>16</th>\n",
       "      <td>17</td>\n",
       "      <td>dark</td>\n",
       "    </tr>\n",
       "    <tr>\n",
       "      <th>17</th>\n",
       "      <td>18</td>\n",
       "      <td>fairy</td>\n",
       "    </tr>\n",
       "  </tbody>\n",
       "</table>\n",
       "</div>"
      ],
      "text/plain": [
       "    id      name\n",
       "0    1    normal\n",
       "1    2  fighting\n",
       "2    3    flying\n",
       "3    4    poison\n",
       "4    5    ground\n",
       "5    6      rock\n",
       "6    7       bug\n",
       "7    8     ghost\n",
       "8    9     steel\n",
       "9   10      fire\n",
       "10  11     water\n",
       "11  12     grass\n",
       "12  13  electric\n",
       "13  14   psychic\n",
       "14  15       ice\n",
       "15  16    dragon\n",
       "16  17      dark\n",
       "17  18     fairy"
      ]
     },
     "execution_count": 69,
     "metadata": {},
     "output_type": "execute_result"
    }
   ],
   "source": [
    "#types\n",
    "\n",
    "# Select all pokemon from the types table.\n",
    "q1_1 = \"\"\"\n",
    "SELECT *\n",
    "FROM types\n",
    "\"\"\"\n",
    "\n",
    "pd.read_sql((q1_1), conn)"
   ]
  },
  {
   "cell_type": "markdown",
   "id": "7bfefa19",
   "metadata": {},
   "source": [
    "#### Q2: Select all the rows from pokemon_types where the type_id is 3."
   ]
  },
  {
   "cell_type": "code",
   "execution_count": 13,
   "id": "72761117",
   "metadata": {
    "ExecuteTime": {
     "end_time": "2022-03-09T22:00:44.145595Z",
     "start_time": "2022-03-09T22:00:44.135846Z"
    }
   },
   "outputs": [
    {
     "data": {
      "text/html": [
       "<div>\n",
       "<style scoped>\n",
       "    .dataframe tbody tr th:only-of-type {\n",
       "        vertical-align: middle;\n",
       "    }\n",
       "\n",
       "    .dataframe tbody tr th {\n",
       "        vertical-align: top;\n",
       "    }\n",
       "\n",
       "    .dataframe thead th {\n",
       "        text-align: right;\n",
       "    }\n",
       "</style>\n",
       "<table border=\"1\" class=\"dataframe\">\n",
       "  <thead>\n",
       "    <tr style=\"text-align: right;\">\n",
       "      <th></th>\n",
       "      <th>id</th>\n",
       "      <th>pokemon_id</th>\n",
       "      <th>type_id</th>\n",
       "    </tr>\n",
       "  </thead>\n",
       "  <tbody>\n",
       "    <tr>\n",
       "      <th>0</th>\n",
       "      <td>10</td>\n",
       "      <td>6</td>\n",
       "      <td>3</td>\n",
       "    </tr>\n",
       "    <tr>\n",
       "      <th>1</th>\n",
       "      <td>17</td>\n",
       "      <td>12</td>\n",
       "      <td>3</td>\n",
       "    </tr>\n",
       "    <tr>\n",
       "      <th>2</th>\n",
       "      <td>25</td>\n",
       "      <td>16</td>\n",
       "      <td>3</td>\n",
       "    </tr>\n",
       "    <tr>\n",
       "      <th>3</th>\n",
       "      <td>27</td>\n",
       "      <td>17</td>\n",
       "      <td>3</td>\n",
       "    </tr>\n",
       "    <tr>\n",
       "      <th>4</th>\n",
       "      <td>29</td>\n",
       "      <td>18</td>\n",
       "      <td>3</td>\n",
       "    </tr>\n",
       "    <tr>\n",
       "      <th>5</th>\n",
       "      <td>33</td>\n",
       "      <td>21</td>\n",
       "      <td>3</td>\n",
       "    </tr>\n",
       "    <tr>\n",
       "      <th>6</th>\n",
       "      <td>35</td>\n",
       "      <td>22</td>\n",
       "      <td>3</td>\n",
       "    </tr>\n",
       "    <tr>\n",
       "      <th>7</th>\n",
       "      <td>59</td>\n",
       "      <td>41</td>\n",
       "      <td>3</td>\n",
       "    </tr>\n",
       "    <tr>\n",
       "      <th>8</th>\n",
       "      <td>61</td>\n",
       "      <td>42</td>\n",
       "      <td>3</td>\n",
       "    </tr>\n",
       "    <tr>\n",
       "      <th>9</th>\n",
       "      <td>123</td>\n",
       "      <td>83</td>\n",
       "      <td>3</td>\n",
       "    </tr>\n",
       "    <tr>\n",
       "      <th>10</th>\n",
       "      <td>125</td>\n",
       "      <td>84</td>\n",
       "      <td>3</td>\n",
       "    </tr>\n",
       "    <tr>\n",
       "      <th>11</th>\n",
       "      <td>127</td>\n",
       "      <td>85</td>\n",
       "      <td>3</td>\n",
       "    </tr>\n",
       "    <tr>\n",
       "      <th>12</th>\n",
       "      <td>178</td>\n",
       "      <td>123</td>\n",
       "      <td>3</td>\n",
       "    </tr>\n",
       "    <tr>\n",
       "      <th>13</th>\n",
       "      <td>187</td>\n",
       "      <td>130</td>\n",
       "      <td>3</td>\n",
       "    </tr>\n",
       "    <tr>\n",
       "      <th>14</th>\n",
       "      <td>205</td>\n",
       "      <td>142</td>\n",
       "      <td>3</td>\n",
       "    </tr>\n",
       "    <tr>\n",
       "      <th>15</th>\n",
       "      <td>208</td>\n",
       "      <td>144</td>\n",
       "      <td>3</td>\n",
       "    </tr>\n",
       "    <tr>\n",
       "      <th>16</th>\n",
       "      <td>210</td>\n",
       "      <td>145</td>\n",
       "      <td>3</td>\n",
       "    </tr>\n",
       "    <tr>\n",
       "      <th>17</th>\n",
       "      <td>212</td>\n",
       "      <td>146</td>\n",
       "      <td>3</td>\n",
       "    </tr>\n",
       "    <tr>\n",
       "      <th>18</th>\n",
       "      <td>216</td>\n",
       "      <td>149</td>\n",
       "      <td>3</td>\n",
       "    </tr>\n",
       "  </tbody>\n",
       "</table>\n",
       "</div>"
      ],
      "text/plain": [
       "     id  pokemon_id  type_id\n",
       "0    10           6        3\n",
       "1    17          12        3\n",
       "2    25          16        3\n",
       "3    27          17        3\n",
       "4    29          18        3\n",
       "5    33          21        3\n",
       "6    35          22        3\n",
       "7    59          41        3\n",
       "8    61          42        3\n",
       "9   123          83        3\n",
       "10  125          84        3\n",
       "11  127          85        3\n",
       "12  178         123        3\n",
       "13  187         130        3\n",
       "14  205         142        3\n",
       "15  208         144        3\n",
       "16  210         145        3\n",
       "17  212         146        3\n",
       "18  216         149        3"
      ]
     },
     "execution_count": 13,
     "metadata": {},
     "output_type": "execute_result"
    }
   ],
   "source": [
    "# Select all the rows from pokemon_types where the type_id is 3.\n",
    "q2 = \"\"\"\n",
    "SELECT *\n",
    "FROM pokemon_types\n",
    "WHERE type_id = 3\n",
    "\"\"\"\n",
    "\n",
    "pd.read_sql(q2, conn)"
   ]
  },
  {
   "cell_type": "markdown",
   "id": "d1176702",
   "metadata": {},
   "source": [
    "#### Q3: Select the rows from pokemon_types where the associated type is \"water\"."
   ]
  },
  {
   "cell_type": "code",
   "execution_count": 97,
   "id": "9bb00807",
   "metadata": {
    "ExecuteTime": {
     "end_time": "2022-03-09T22:00:44.163470Z",
     "start_time": "2022-03-09T22:00:44.148610Z"
    }
   },
   "outputs": [
    {
     "data": {
      "text/html": [
       "<div>\n",
       "<style scoped>\n",
       "    .dataframe tbody tr th:only-of-type {\n",
       "        vertical-align: middle;\n",
       "    }\n",
       "\n",
       "    .dataframe tbody tr th {\n",
       "        vertical-align: top;\n",
       "    }\n",
       "\n",
       "    .dataframe thead th {\n",
       "        text-align: right;\n",
       "    }\n",
       "</style>\n",
       "<table border=\"1\" class=\"dataframe\">\n",
       "  <thead>\n",
       "    <tr style=\"text-align: right;\">\n",
       "      <th></th>\n",
       "      <th>id</th>\n",
       "      <th>pokemon_id</th>\n",
       "      <th>type_id</th>\n",
       "      <th>id</th>\n",
       "      <th>name</th>\n",
       "    </tr>\n",
       "  </thead>\n",
       "  <tbody>\n",
       "    <tr>\n",
       "      <th>0</th>\n",
       "      <td>11</td>\n",
       "      <td>7</td>\n",
       "      <td>11</td>\n",
       "      <td>11</td>\n",
       "      <td>water</td>\n",
       "    </tr>\n",
       "  </tbody>\n",
       "</table>\n",
       "</div>"
      ],
      "text/plain": [
       "   id  pokemon_id  type_id  id   name\n",
       "0  11           7       11  11  water"
      ]
     },
     "execution_count": 97,
     "metadata": {},
     "output_type": "execute_result"
    }
   ],
   "source": [
    "# Select the rows from pokemon_types where the associated type is \"water\".\n",
    "q3 = \"\"\"\n",
    "SELECT *\n",
    "FROM pokemon_types\n",
    "JOIN types\n",
    "    ON pokemon_types.id = types.id\n",
    "WHERE name = \"water\"\n",
    "\"\"\"\n",
    "\n",
    "pd.read_sql(q3, conn)"
   ]
  },
  {
   "cell_type": "markdown",
   "id": "07fbf93c",
   "metadata": {},
   "source": [
    "#### Q4: Find the average weight for each type."
   ]
  },
  {
   "cell_type": "code",
   "execution_count": 43,
   "id": "79705cb1",
   "metadata": {
    "ExecuteTime": {
     "end_time": "2022-03-09T22:00:44.180531Z",
     "start_time": "2022-03-09T22:00:44.166612Z"
    }
   },
   "outputs": [
    {
     "data": {
      "text/html": [
       "<div>\n",
       "<style scoped>\n",
       "    .dataframe tbody tr th:only-of-type {\n",
       "        vertical-align: middle;\n",
       "    }\n",
       "\n",
       "    .dataframe tbody tr th {\n",
       "        vertical-align: top;\n",
       "    }\n",
       "\n",
       "    .dataframe thead th {\n",
       "        text-align: right;\n",
       "    }\n",
       "</style>\n",
       "<table border=\"1\" class=\"dataframe\">\n",
       "  <thead>\n",
       "    <tr style=\"text-align: right;\">\n",
       "      <th></th>\n",
       "      <th>avg_weight</th>\n",
       "      <th>types</th>\n",
       "    </tr>\n",
       "  </thead>\n",
       "  <tbody>\n",
       "    <tr>\n",
       "      <th>0</th>\n",
       "      <td>1297.500000</td>\n",
       "      <td>ice</td>\n",
       "    </tr>\n",
       "    <tr>\n",
       "      <th>1</th>\n",
       "      <td>1006.800000</td>\n",
       "      <td>ground</td>\n",
       "    </tr>\n",
       "    <tr>\n",
       "      <th>2</th>\n",
       "      <td>595.000000</td>\n",
       "      <td>steel</td>\n",
       "    </tr>\n",
       "    <tr>\n",
       "      <th>3</th>\n",
       "      <td>592.666667</td>\n",
       "      <td>fighting</td>\n",
       "    </tr>\n",
       "    <tr>\n",
       "      <th>4</th>\n",
       "      <td>502.333333</td>\n",
       "      <td>electric</td>\n",
       "    </tr>\n",
       "    <tr>\n",
       "      <th>5</th>\n",
       "      <td>480.222222</td>\n",
       "      <td>fire</td>\n",
       "    </tr>\n",
       "    <tr>\n",
       "      <th>6</th>\n",
       "      <td>459.500000</td>\n",
       "      <td>rock</td>\n",
       "    </tr>\n",
       "    <tr>\n",
       "      <th>7</th>\n",
       "      <td>442.000000</td>\n",
       "      <td>psychic</td>\n",
       "    </tr>\n",
       "    <tr>\n",
       "      <th>8</th>\n",
       "      <td>432.516129</td>\n",
       "      <td>poison</td>\n",
       "    </tr>\n",
       "    <tr>\n",
       "      <th>9</th>\n",
       "      <td>424.071429</td>\n",
       "      <td>normal</td>\n",
       "    </tr>\n",
       "    <tr>\n",
       "      <th>10</th>\n",
       "      <td>372.250000</td>\n",
       "      <td>grass</td>\n",
       "    </tr>\n",
       "    <tr>\n",
       "      <th>11</th>\n",
       "      <td>356.750000</td>\n",
       "      <td>fairy</td>\n",
       "    </tr>\n",
       "    <tr>\n",
       "      <th>12</th>\n",
       "      <td>343.777778</td>\n",
       "      <td>water</td>\n",
       "    </tr>\n",
       "    <tr>\n",
       "      <th>13</th>\n",
       "      <td>339.200000</td>\n",
       "      <td>bug</td>\n",
       "    </tr>\n",
       "    <tr>\n",
       "      <th>14</th>\n",
       "      <td>334.083333</td>\n",
       "      <td>flying</td>\n",
       "    </tr>\n",
       "    <tr>\n",
       "      <th>15</th>\n",
       "      <td>146.666667</td>\n",
       "      <td>ghost</td>\n",
       "    </tr>\n",
       "  </tbody>\n",
       "</table>\n",
       "</div>"
      ],
      "text/plain": [
       "     avg_weight     types\n",
       "0   1297.500000       ice\n",
       "1   1006.800000    ground\n",
       "2    595.000000     steel\n",
       "3    592.666667  fighting\n",
       "4    502.333333  electric\n",
       "5    480.222222      fire\n",
       "6    459.500000      rock\n",
       "7    442.000000   psychic\n",
       "8    432.516129    poison\n",
       "9    424.071429    normal\n",
       "10   372.250000     grass\n",
       "11   356.750000     fairy\n",
       "12   343.777778     water\n",
       "13   339.200000       bug\n",
       "14   334.083333    flying\n",
       "15   146.666667     ghost"
      ]
     },
     "execution_count": 43,
     "metadata": {},
     "output_type": "execute_result"
    }
   ],
   "source": [
    "# Find the average weight for each type.\n",
    "### Order the results from highest weight to lowest weight. \n",
    "### Display the type name next to the average weight.\n",
    "q4 = \"\"\"\n",
    "SELECT AVG(weight) AS avg_weight, types.name AS types\n",
    "FROM pokemon \n",
    "LEFT JOIN pokemon_types \n",
    "    ON pokemon_types.id = pokemon.id\n",
    "LEFT JOIN types \n",
    "    ON pokemon_types.type_id = types.id\n",
    "GROUP BY types.name\n",
    "ORDER BY avg_weight DESC\n",
    "\"\"\"\n",
    "\n",
    "pd.read_sql(q4, conn)"
   ]
  },
  {
   "cell_type": "markdown",
   "id": "e4079b26",
   "metadata": {},
   "source": [
    "#### Q5: Find the names and ids of the pokemon that have more than 1 type."
   ]
  },
  {
   "cell_type": "code",
   "execution_count": 95,
   "id": "4a85cab6",
   "metadata": {
    "ExecuteTime": {
     "end_time": "2022-03-09T22:00:44.196406Z",
     "start_time": "2022-03-09T22:00:44.183351Z"
    }
   },
   "outputs": [
    {
     "data": {
      "text/html": [
       "<div>\n",
       "<style scoped>\n",
       "    .dataframe tbody tr th:only-of-type {\n",
       "        vertical-align: middle;\n",
       "    }\n",
       "\n",
       "    .dataframe tbody tr th {\n",
       "        vertical-align: top;\n",
       "    }\n",
       "\n",
       "    .dataframe thead th {\n",
       "        text-align: right;\n",
       "    }\n",
       "</style>\n",
       "<table border=\"1\" class=\"dataframe\">\n",
       "  <thead>\n",
       "    <tr style=\"text-align: right;\">\n",
       "      <th></th>\n",
       "      <th>count</th>\n",
       "      <th>name</th>\n",
       "      <th>id</th>\n",
       "    </tr>\n",
       "  </thead>\n",
       "  <tbody>\n",
       "    <tr>\n",
       "      <th>0</th>\n",
       "      <td>31</td>\n",
       "      <td>ivysaur</td>\n",
       "      <td>2</td>\n",
       "    </tr>\n",
       "    <tr>\n",
       "      <th>1</th>\n",
       "      <td>18</td>\n",
       "      <td>metapod</td>\n",
       "      <td>11</td>\n",
       "    </tr>\n",
       "    <tr>\n",
       "      <th>2</th>\n",
       "      <td>14</td>\n",
       "      <td>arbok</td>\n",
       "      <td>24</td>\n",
       "    </tr>\n",
       "    <tr>\n",
       "      <th>3</th>\n",
       "      <td>12</td>\n",
       "      <td>bulbasaur</td>\n",
       "      <td>1</td>\n",
       "    </tr>\n",
       "    <tr>\n",
       "      <th>4</th>\n",
       "      <td>12</td>\n",
       "      <td>caterpie</td>\n",
       "      <td>10</td>\n",
       "    </tr>\n",
       "    <tr>\n",
       "      <th>5</th>\n",
       "      <td>10</td>\n",
       "      <td>wigglytuff</td>\n",
       "      <td>40</td>\n",
       "    </tr>\n",
       "    <tr>\n",
       "      <th>6</th>\n",
       "      <td>10</td>\n",
       "      <td>kakuna</td>\n",
       "      <td>14</td>\n",
       "    </tr>\n",
       "    <tr>\n",
       "      <th>7</th>\n",
       "      <td>9</td>\n",
       "      <td>squirtle</td>\n",
       "      <td>7</td>\n",
       "    </tr>\n",
       "    <tr>\n",
       "      <th>8</th>\n",
       "      <td>8</td>\n",
       "      <td>shellder</td>\n",
       "      <td>90</td>\n",
       "    </tr>\n",
       "    <tr>\n",
       "      <th>9</th>\n",
       "      <td>6</td>\n",
       "      <td>magneton</td>\n",
       "      <td>82</td>\n",
       "    </tr>\n",
       "    <tr>\n",
       "      <th>10</th>\n",
       "      <td>6</td>\n",
       "      <td>ninetales</td>\n",
       "      <td>38</td>\n",
       "    </tr>\n",
       "    <tr>\n",
       "      <th>11</th>\n",
       "      <td>4</td>\n",
       "      <td>hitmonlee</td>\n",
       "      <td>106</td>\n",
       "    </tr>\n",
       "    <tr>\n",
       "      <th>12</th>\n",
       "      <td>4</td>\n",
       "      <td>diglett</td>\n",
       "      <td>50</td>\n",
       "    </tr>\n",
       "    <tr>\n",
       "      <th>13</th>\n",
       "      <td>3</td>\n",
       "      <td>flareon</td>\n",
       "      <td>136</td>\n",
       "    </tr>\n",
       "    <tr>\n",
       "      <th>14</th>\n",
       "      <td>2</td>\n",
       "      <td>seaking</td>\n",
       "      <td>119</td>\n",
       "    </tr>\n",
       "    <tr>\n",
       "      <th>15</th>\n",
       "      <td>2</td>\n",
       "      <td>gyarados</td>\n",
       "      <td>130</td>\n",
       "    </tr>\n",
       "  </tbody>\n",
       "</table>\n",
       "</div>"
      ],
      "text/plain": [
       "    count        name   id\n",
       "0      31     ivysaur    2\n",
       "1      18     metapod   11\n",
       "2      14       arbok   24\n",
       "3      12   bulbasaur    1\n",
       "4      12    caterpie   10\n",
       "5      10  wigglytuff   40\n",
       "6      10      kakuna   14\n",
       "7       9    squirtle    7\n",
       "8       8    shellder   90\n",
       "9       6    magneton   82\n",
       "10      6   ninetales   38\n",
       "11      4   hitmonlee  106\n",
       "12      4     diglett   50\n",
       "13      3     flareon  136\n",
       "14      2     seaking  119\n",
       "15      2    gyarados  130"
      ]
     },
     "execution_count": 95,
     "metadata": {},
     "output_type": "execute_result"
    }
   ],
   "source": [
    "# Find the names and ids of the pokemon that have more than 1 type.\n",
    "q5 = \"\"\"\n",
    "SELECT COUNT(*) AS count,pokemon.name, pokemon.id \n",
    "FROM pokemon \n",
    "LEFT JOIN pokemon_types \n",
    "    ON pokemon_types.id = pokemon.id\n",
    "LEFT JOIN types \n",
    "    ON pokemon_types.type_id = types.id\n",
    "GROUP BY types.name\n",
    "HAVING count > 1\n",
    "ORDER BY count DESC\n",
    "\"\"\"\n",
    "pd.read_sql(q5, conn)"
   ]
  },
  {
   "cell_type": "markdown",
   "id": "dd7568c8",
   "metadata": {},
   "source": [
    "#### Q6: Find the id of the type that has the most pokemon."
   ]
  },
  {
   "cell_type": "code",
   "execution_count": 56,
   "id": "f2be93b4",
   "metadata": {
    "ExecuteTime": {
     "end_time": "2022-03-09T22:00:44.211381Z",
     "start_time": "2022-03-09T22:00:44.199049Z"
    }
   },
   "outputs": [
    {
     "data": {
      "text/html": [
       "<div>\n",
       "<style scoped>\n",
       "    .dataframe tbody tr th:only-of-type {\n",
       "        vertical-align: middle;\n",
       "    }\n",
       "\n",
       "    .dataframe tbody tr th {\n",
       "        vertical-align: top;\n",
       "    }\n",
       "\n",
       "    .dataframe thead th {\n",
       "        text-align: right;\n",
       "    }\n",
       "</style>\n",
       "<table border=\"1\" class=\"dataframe\">\n",
       "  <thead>\n",
       "    <tr style=\"text-align: right;\">\n",
       "      <th></th>\n",
       "      <th>counts</th>\n",
       "      <th>type_id</th>\n",
       "      <th>type</th>\n",
       "    </tr>\n",
       "  </thead>\n",
       "  <tbody>\n",
       "    <tr>\n",
       "      <th>0</th>\n",
       "      <td>31</td>\n",
       "      <td>4</td>\n",
       "      <td>poison</td>\n",
       "    </tr>\n",
       "  </tbody>\n",
       "</table>\n",
       "</div>"
      ],
      "text/plain": [
       "   counts  type_id    type\n",
       "0      31        4  poison"
      ]
     },
     "execution_count": 56,
     "metadata": {},
     "output_type": "execute_result"
    }
   ],
   "source": [
    "# Find the id of the type that has the most pokemon.\n",
    "### Display type_id next to the number of pokemon having that type.\n",
    "q6 = \"\"\"\n",
    "SELECT COUNT(*) as counts, type_id, types.name AS type\n",
    "FROM pokemon\n",
    "JOIN pokemon_types \n",
    "    ON pokemon_types.id = pokemon.id\n",
    "JOIN types \n",
    "    ON pokemon_types.type_id = types.id\n",
    "GROUP BY type_id\n",
    "ORDER BY counts DESC\n",
    "LIMIT 1\n",
    "\"\"\"\n",
    "\n",
    "pd.read_sql(q6, conn)"
   ]
  }
 ],
 "metadata": {
  "kernelspec": {
   "display_name": "Python 3 (ipykernel)",
   "language": "python",
   "name": "python3"
  },
  "language_info": {
   "codemirror_mode": {
    "name": "ipython",
    "version": 3
   },
   "file_extension": ".py",
   "mimetype": "text/x-python",
   "name": "python",
   "nbconvert_exporter": "python",
   "pygments_lexer": "ipython3",
   "version": "3.9.7"
  },
  "toc": {
   "base_numbering": 1,
   "nav_menu": {},
   "number_sections": false,
   "sideBar": true,
   "skip_h1_title": false,
   "title_cell": "Table of Contents",
   "title_sidebar": "Contents",
   "toc_cell": false,
   "toc_position": {
    "height": "calc(100% - 180px)",
    "left": "10px",
    "top": "150px",
    "width": "294px"
   },
   "toc_section_display": true,
   "toc_window_display": true
  }
 },
 "nbformat": 4,
 "nbformat_minor": 5
}
